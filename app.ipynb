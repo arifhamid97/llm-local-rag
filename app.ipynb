{
 "cells": [
  {
   "cell_type": "markdown",
   "metadata": {},
   "source": [
    "Creating a Simple Retrieval-Augmented Generation (RAG) Application Using Open-Source Models"
   ]
  },
  {
   "cell_type": "code",
   "execution_count": 17,
   "metadata": {},
   "outputs": [
    {
     "data": {
      "text/plain": [
       "33"
      ]
     },
     "execution_count": 17,
     "metadata": {},
     "output_type": "execute_result"
    }
   ],
   "source": [
    "#CUSTOM UTIL SPLIT TO SPLIT PDF BY CHUNKS\n",
    "\n",
    "\n",
    "from langchain_core.documents import Document\n",
    "import PyPDF2\n",
    "from typing import List\n",
    "import os\n",
    "\n",
    "class PDFReader:\n",
    "    def __init__(self, file_path: str, num_chunks: int, chunk_overlap: int):\n",
    "        self.file_path = file_path\n",
    "        self.file_name = os.path.basename(file_path)\n",
    "        self.num_chunks = num_chunks\n",
    "        self.chunk_overlap = chunk_overlap\n",
    "\n",
    "    def split_into_chunks(self, text: str, num_chunks: int, chunk_overlap: int) -> List[str]:\n",
    "        chunk_size = max(1, len(text) // num_chunks)\n",
    "        chunks = []\n",
    "        for i in range(0, len(text), chunk_size - chunk_overlap):\n",
    "            chunk = text[i:i + chunk_size]\n",
    "            chunks.append(chunk)\n",
    "            if len(chunk) < chunk_size:\n",
    "                break\n",
    "        return chunks\n",
    "\n",
    "    def read_and_split(self) -> List[Document]:\n",
    "        documents = []\n",
    "        with open(self.file_path, \"rb\") as file:\n",
    "            reader = PyPDF2.PdfReader(file)\n",
    "            for page_num in range(len(reader.pages)):\n",
    "                page = reader.pages[page_num]\n",
    "                text = page.extract_text()\n",
    "                chunks = self.split_into_chunks(text, self.num_chunks, self.chunk_overlap)\n",
    "                for chunk in chunks:\n",
    "                    doc = Document(\n",
    "                        page_content=chunk,\n",
    "                        metadata={\"page_number\": page_num + 1, \"source\": self.file_name}\n",
    "                    )\n",
    "                    documents.append(doc)\n",
    "        return documents\n",
    "\n",
    "\n",
    "\n",
    "pdf_reader = PDFReader(\"sample.pdf\", num_chunks=2, chunk_overlap=10)\n",
    "documents = pdf_reader.read_and_split()\n",
    "len(documents)\n",
    "\n",
    "\n",
    "\n"
   ]
  },
  {
   "cell_type": "markdown",
   "metadata": {},
   "source": [
    "Init model"
   ]
  },
  {
   "cell_type": "code",
   "execution_count": 32,
   "metadata": {},
   "outputs": [
    {
     "data": {
      "text/plain": [
       "AIMessage(content=\"The softmax function is a mathematical function that converts a vector of numbers into a probability distribution. It is commonly used in machine learning and neural networks to output probabilities for multiple classes.\\n\\nThe formula for the softmax function is:\\n\\n\\\\[ \\\\sigma(z)_i = \\\\frac{e^{z_i}}{\\\\sum_{j=1}^{K}e^{z_j}} \\\\]\\n\\nWhere:\\n- \\\\( \\\\sigma(z)_i \\\\) is the output probability for class \\\\( i \\\\)\\n- \\\\( e \\\\) is the base of the natural logarithm (Euler's number)\\n- \\\\( z_i \\\\) is the input value for class \\\\( i \\\\)\\n- \\\\( K \\\\) is the total number of classes\\n\\nThe softmax function exponentiates each input value and then normalizes the values by dividing by the sum of all exponentiated values. This results in a probability distribution where the sum of all probabilities is equal to 1.\", response_metadata={'token_usage': {'completion_tokens': 186, 'prompt_tokens': 11, 'total_tokens': 197}, 'model_name': 'gpt-3.5-turbo', 'system_fingerprint': None, 'finish_reason': 'stop', 'logprobs': None}, id='run-e865e175-910a-4f2d-9d62-08f892f6c97e-0')"
      ]
     },
     "execution_count": 32,
     "metadata": {},
     "output_type": "execute_result"
    }
   ],
   "source": [
    "import os\n",
    "from dotenv import load_dotenv\n",
    "from langchain_openai.chat_models import ChatOpenAI\n",
    "from langchain_openai.embeddings import OpenAIEmbeddings\n",
    "\n",
    "load_dotenv()\n",
    "\n",
    "OPENAI_API_KEY = os.getenv(\"OPENAI_API_KEY\")\n",
    "MODEL = \"gpt-3.5-turbo\"\n",
    "model = ChatOpenAI(openai_api_key=OPENAI_API_KEY, model=MODEL)\n",
    "embeddings = OpenAIEmbeddings()\n",
    "\n"
   ]
  },
  {
   "cell_type": "markdown",
   "metadata": {},
   "source": [
    "Prompting"
   ]
  },
  {
   "cell_type": "code",
   "execution_count": 7,
   "metadata": {},
   "outputs": [
    {
     "data": {
      "text/plain": [
       "'\\nAnswer the question based on the context below. If you can\\'t \\nanswer the question, reply \"I don\\'t know\".\\n\\nContext: Here is some context\\n\\nQuestion: Here is a question\\n'"
      ]
     },
     "execution_count": 7,
     "metadata": {},
     "output_type": "execute_result"
    }
   ],
   "source": [
    "from langchain.prompts import PromptTemplate\n",
    "\n",
    "template = \"\"\"\n",
    "Answer the question based on the context below. If you can't \n",
    "answer the question, reply \"I don't know\".\n",
    "\n",
    "Context: {context}\n",
    "\n",
    "Question: {question}\n",
    "\"\"\"\n",
    "\n",
    "prompt = PromptTemplate.from_template(template)\n",
    "prompt.format(context=\"Here is some context\", question=\"Here is a question\")"
   ]
  },
  {
   "cell_type": "markdown",
   "metadata": {},
   "source": [
    "Parser"
   ]
  },
  {
   "cell_type": "code",
   "execution_count": 2,
   "metadata": {},
   "outputs": [],
   "source": [
    "from langchain_core.output_parsers import StrOutputParser\n",
    "\n",
    "parser = StrOutputParser()"
   ]
  },
  {
   "cell_type": "markdown",
   "metadata": {},
   "source": [
    "Sample chaining with langchain"
   ]
  },
  {
   "cell_type": "code",
   "execution_count": 9,
   "metadata": {},
   "outputs": [
    {
     "data": {
      "text/plain": [
       "'Your favourite show is Naruto.'"
      ]
     },
     "execution_count": 9,
     "metadata": {},
     "output_type": "execute_result"
    }
   ],
   "source": [
    "chain = prompt | model | parser\n",
    "\n",
    "chain.invoke({\"context\": \"I like to watch Naruto\", \"question\": \"What's my favourite show'?\"})"
   ]
  },
  {
   "cell_type": "markdown",
   "metadata": {},
   "source": [
    "![Sample Image](images/image_1.jpg)"
   ]
  },
  {
   "cell_type": "markdown",
   "metadata": {},
   "source": [
    "Init Vector Db"
   ]
  },
  {
   "cell_type": "code",
   "execution_count": 15,
   "metadata": {},
   "outputs": [],
   "source": [
    "from langchain_chroma import Chroma\n",
    "\n",
    "database = Chroma(persist_directory=\"./rag_db\", embedding_function=embeddings)"
   ]
  },
  {
   "cell_type": "markdown",
   "metadata": {},
   "source": [
    "Process PDF file for embeddings"
   ]
  },
  {
   "cell_type": "code",
   "execution_count": 11,
   "metadata": {},
   "outputs": [
    {
     "name": "stdout",
     "output_type": "stream",
     "text": [
      "12\n"
     ]
    }
   ],
   "source": [
    "from langchain_community.document_loaders import PyPDFLoader\n",
    "\n",
    "loader = PyPDFLoader(\"sample.pdf\")\n",
    "docs = loader.load_and_split()\n",
    "print(len(docs))"
   ]
  },
  {
   "cell_type": "markdown",
   "metadata": {},
   "source": [
    "Embed file content to vector DB"
   ]
  },
  {
   "cell_type": "code",
   "execution_count": 16,
   "metadata": {},
   "outputs": [
    {
     "name": "stdout",
     "output_type": "stream",
     "text": [
      "<langchain_chroma.vectorstores.Chroma object at 0x1342e33a0>\n"
     ]
    }
   ],
   "source": [
    "\n",
    "db = database.from_documents(documents=docs,embedding=embeddings,persist_directory=\"./rag_db\")\n"
   ]
  },
  {
   "cell_type": "markdown",
   "metadata": {},
   "source": [
    "Query from vector db"
   ]
  },
  {
   "cell_type": "code",
   "execution_count": 35,
   "metadata": {},
   "outputs": [
    {
     "data": {
      "text/plain": [
       "'The softmax formula is given by softmax(QK^T / √dk)V.'"
      ]
     },
     "execution_count": 35,
     "metadata": {},
     "output_type": "execute_result"
    }
   ],
   "source": [
    "\n",
    "from operator import itemgetter\n",
    "\n",
    "\n",
    "retriever = database.as_retriever(search_kwargs={\"k\":3})\n",
    "\n",
    "\n",
    "chain = (\n",
    "    {\n",
    "        \"context\": itemgetter(\"question\") | retriever,\n",
    "        \"question\": itemgetter(\"question\"),\n",
    "    }\n",
    "    | prompt\n",
    "    | model\n",
    "    | parser\n",
    ")\n",
    "\n",
    "chain.input_schema()\n",
    "chain.invoke({'question':'What is softmax formula'})\n"
   ]
  }
 ],
 "metadata": {
  "kernelspec": {
   "display_name": "Python 3",
   "language": "python",
   "name": "python3"
  },
  "language_info": {
   "codemirror_mode": {
    "name": "ipython",
    "version": 3
   },
   "file_extension": ".py",
   "mimetype": "text/x-python",
   "name": "python",
   "nbconvert_exporter": "python",
   "pygments_lexer": "ipython3",
   "version": "3.10.5"
  }
 },
 "nbformat": 4,
 "nbformat_minor": 2
}
